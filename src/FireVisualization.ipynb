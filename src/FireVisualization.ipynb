{
  "nbformat": 4,
  "nbformat_minor": 2,
  "metadata": {
    "colab": {
      "name": "fireCollection.ipynb",
      "provenance": [],
      "collapsed_sections": []
    },
    "kernelspec": {
      "name": "python3",
      "display_name": "Python 3.9.9 64-bit (windows store)"
    },
    "language_info": {
      "name": "python",
      "version": "3.9.9",
      "mimetype": "text/x-python",
      "codemirror_mode": {
        "name": "ipython",
        "version": 3
      },
      "pygments_lexer": "ipython3",
      "nbconvert_exporter": "python",
      "file_extension": ".py"
    },
    "interpreter": {
      "hash": "807703b776c17cbc2212212a2cf515ea7758910c9b7995b269d91a9fc666e414"
    }
  },
  "cells": [
    {
      "cell_type": "markdown",
      "source": [
        "# **Visualize burn map from Google Earth Engine**\r\n"
      ],
      "metadata": {
        "id": "7yR7NX8Axl4J"
      }
    },
    {
      "cell_type": "markdown",
      "source": [
        "### **Install Earth Engine API**"
      ],
      "metadata": {
        "id": "aycFvG4ryaw3"
      }
    },
    {
      "cell_type": "code",
      "execution_count": null,
      "source": [
        "!pip install earthengine-api --upgrade"
      ],
      "outputs": [],
      "metadata": {
        "id": "zdRcs1ivxBmL",
        "colab": {
          "base_uri": "https://localhost:8080/"
        },
        "outputId": "fefd2170-70b6-4f44-c0cf-5543cc938644"
      }
    },
    {
      "cell_type": "markdown",
      "source": [
        "### **Install Folium**"
      ],
      "metadata": {}
    },
    {
      "cell_type": "code",
      "execution_count": null,
      "source": [
        "!pip install folium"
      ],
      "outputs": [],
      "metadata": {}
    },
    {
      "cell_type": "markdown",
      "source": [
        "### **Prevent re-import errors**"
      ],
      "metadata": {
        "id": "r8g9TikXxsHS"
      }
    },
    {
      "cell_type": "code",
      "execution_count": 1,
      "source": [
        "%load_ext autoreload\r\n",
        "%autoreload 2"
      ],
      "outputs": [],
      "metadata": {
        "id": "cPCLBuyLxh7A"
      }
    },
    {
      "cell_type": "markdown",
      "source": [
        "### **Imports**"
      ],
      "metadata": {
        "id": "iWQjasn4K6H4"
      }
    },
    {
      "cell_type": "code",
      "execution_count": 17,
      "source": [
        "from IPython.core.display import display, HTML\r\n",
        "import numpy as np\r\n",
        "import folium\r\n",
        "import os\r\n",
        "import ee"
      ],
      "outputs": [],
      "metadata": {
        "id": "Hqbx40d2xSaE"
      }
    },
    {
      "cell_type": "markdown",
      "source": [
        "### **Sign-in to Google Earth Engine**"
      ],
      "metadata": {
        "id": "0juzqYcRWPNv"
      }
    },
    {
      "cell_type": "code",
      "execution_count": 3,
      "source": [
        "ee.Authenticate()\r\n",
        "try:\r\n",
        "  ee.Initialize()\r\n",
        "  print(\"Earth Engine initilized successfully!\")\r\n",
        "except ee.EEException as e:\r\n",
        "  print(\"Earth Engine could not be initialized!\")"
      ],
      "outputs": [
        {
          "output_type": "stream",
          "name": "stdout",
          "text": [
            "Earth Engine initilized successfully!\n"
          ]
        }
      ],
      "metadata": {
        "id": "mdvIYFjFx2Rg",
        "colab": {
          "base_uri": "https://localhost:8080/"
        },
        "outputId": "32610a2a-7df8-4d1f-b332-cdc5c8e71aa2"
      }
    },
    {
      "cell_type": "markdown",
      "source": [
        "## **Build Fire Map Functions**"
      ],
      "metadata": {
        "id": "p-QG6aEsxuYL"
      }
    },
    {
      "cell_type": "markdown",
      "source": [
        "### **Adds an Earth Engine layer to a Folium map**"
      ],
      "metadata": {
        "id": "KWrymMohLRyQ"
      }
    },
    {
      "cell_type": "code",
      "execution_count": 4,
      "source": [
        "def add_ee_layer(self, ee_image_object, vis_params, name):\r\n",
        "  map_id_dict = ee.Image(ee_image_object).getMapId(vis_params)\r\n",
        "  folium.raster_layers.TileLayer(\r\n",
        "      tiles=map_id_dict['tile_fetcher'].url_format,\r\n",
        "      attr='Map Data &copy; <a href=\"https://earthengine.google.com/\">Google Earth Engine</a>',\r\n",
        "      name=name,\r\n",
        "      overlay=True,\r\n",
        "      control=True\r\n",
        "  ).add_to(self)\r\n",
        "folium.Map.add_ee_layer = add_ee_layer"
      ],
      "outputs": [],
      "metadata": {
        "id": "g-L338gF3CA2"
      }
    },
    {
      "cell_type": "markdown",
      "source": [
        "### **Builds the Folium map given an <*ee.Image*> object**"
      ],
      "metadata": {
        "id": "lnHUzy2fLdJH"
      }
    },
    {
      "cell_type": "code",
      "execution_count": 5,
      "source": [
        "def buildFireMap(image, bounds=None, burn_color='FF00FF', tile_color='white', band='T21'):\r\n",
        "  image_viz_params = {'min': 0.5, 'max': 1, 'palette': [burn_color, burn_color]}\r\n",
        "\r\n",
        "  white_tile = {'tile': 'https://server.arcgisonline.com/ArcGIS/rest/services/World_Terrain_Base/MapServer/tile/{z}/{y}/{x}',\r\n",
        "                'attr':'Tiles &copy; Esri &mdash; Source: USGS, Esri, TANA, DeLorme, and NPS'}\r\n",
        "  colored_tile = {'tile':'https://stamen-tiles-{s}.a.ssl.fastly.net/terrain-background/{z}/{x}/{y}{r}.png',\r\n",
        "                'attr': 'Map tiles by <a href=\"http://stamen.com\">Stamen Design</a>, <a href=\"http://creativecommons.org/licenses/by/3.0\">CC BY 3.0</a> &mdash; Map data &copy; <a href=\"https://www.openstreetmap.org/copyright\">OpenStreetMap</a> contributors'}\r\n",
        "  tile = white_tile if tile_color == 'white' else colored_tile\r\n",
        "  \r\n",
        "  # Build map from selected tile type\r\n",
        "  fMap = folium.Map(location=[37.5010, -122.1899], zoom_start=10,\r\n",
        "                      tiles = tile['tile'],\r\n",
        "                      attr = tile['attr'])\r\n",
        "  \r\n",
        "  # Bound image to [[sw_long, sw_lat], [ne_long, ne_lat]]\r\n",
        "  if bounds is not None:\r\n",
        "    fMap.fit_bounds(bounds)\r\n",
        "\r\n",
        "  # Add burn layer to image\r\n",
        "  fMap.add_ee_layer(image, image_viz_params, band)\r\n",
        "  return fMap"
      ],
      "outputs": [],
      "metadata": {
        "id": "1HvRjnUs2ofB"
      }
    },
    {
      "cell_type": "markdown",
      "source": [
        "### **Easy-use function to get burn map across a date range and bounding box**"
      ],
      "metadata": {
        "id": "_KieuZEWLzYP"
      }
    },
    {
      "cell_type": "code",
      "execution_count": 6,
      "source": [
        "# start_date: date to start fire data collection from\r\n",
        "#   'YYYY-MM-DD'\r\n",
        "# end_date: final date of fire data collection\r\n",
        "#   'YYYY-MM-DD'\r\n",
        "# southwest_bound: lower left corner of bounding box to fit map to\r\n",
        "#    [lat, long]\r\n",
        "# northeast_bound: upper right corner of bounding box to fit map to\r\n",
        "#    [lat, long]\r\n",
        "# map_tile: what terrain type you want to the map to look like\r\n",
        "#    'white': a grayscale relief map\r\n",
        "#    'color': a colored relief map\r\n",
        "# burn_color: what color do you want the burned areas to be:\r\n",
        "#    '#FF00FF': default magenta\r\n",
        "def getBurnMap(start_date, end_date, southwest_bound, northeast_bound, map_tile='white', burn_color='#FF3617'):\r\n",
        "  dataset = ee.ImageCollection('FIRMS').filter(\r\n",
        "        ee.Filter.date(start_date, end_date))\r\n",
        "  fires = dataset.select('T21') \r\n",
        "  image = fires.sum()\r\n",
        "\r\n",
        "  region = ee.Geometry.BBox(southwest_bound[1],southwest_bound[0], northeast_bound[1],northeast_bound[0])\r\n",
        "  meanDictionary = image.reduceRegion(\r\n",
        "    reducer= ee.Reducer.mean(),\r\n",
        "    geometry= region,\r\n",
        "    scale= 30,\r\n",
        "    maxPixels= 1e9)\r\n",
        "  \r\n",
        "  fireMap = buildFireMap(image, [southwest_bound, northeast_bound], burn_color=burn_color, tile_color=map_tile)\r\n",
        "  return fireMap, meanDictionary"
      ],
      "outputs": [],
      "metadata": {
        "id": "0DBDX-feGm-h"
      }
    },
    {
      "cell_type": "markdown",
      "source": [
        "### **Miscellaneous Helper Functions**"
      ],
      "metadata": {
        "id": "Rj03vUgRVCTV"
      }
    },
    {
      "cell_type": "code",
      "execution_count": 16,
      "source": [
        "# Make a bounding box around a [lat,long] pair with dimensions of 2radius x 2radius\r\n",
        "def buildCoords(coords, radius):\r\n",
        "  southwest = [coords[0]-radius, coords[1]-radius]\r\n",
        "  northeast = [coords[0]+radius, coords[1]+radius]\r\n",
        "  return southwest, northeast\r\n",
        "  \r\n",
        "def sideBySide(map1, map2):\r\n",
        "  return HTML('<iframe srcdoc=\"{}\" style=\"float:left; width: {}px; height: {}px; display:inline-block; width: 40%; margin: 0 auto; border: 2px solid black\"></iframe>'\r\n",
        "              '<iframe srcdoc=\"{}\" style=\"float:left; width: {}px; height: {}px; display:inline-block; width: 40%; margin: 0 auto; border: 2px solid black\"></iframe>'\r\n",
        "              .format(map1.get_root().render().replace('\"', '&quot;'),500,500,\r\n",
        "                      map2.get_root().render().replace('\"', '&quot;'),500,500))"
      ],
      "outputs": [],
      "metadata": {
        "id": "tAEttDlONBts"
      }
    },
    {
      "cell_type": "markdown",
      "source": [
        "### **Determine if a burn dictionary contains details of a fire in the original bounded region**"
      ],
      "metadata": {
        "id": "pE0OMU6oVLpT"
      }
    },
    {
      "cell_type": "code",
      "execution_count": 8,
      "source": [
        "# Given a the reduced dictionary of the area, determine if the pixel \r\n",
        "# count is higher than a given tolerance\r\n",
        "def didAreaBurn(burnDictionary, band='T21', tolerance=0):\r\n",
        "  burnAmount = burnDictionary.getInfo()[band] \r\n",
        "  burnAmount = 0 if burnAmount is None else burnAmount\r\n",
        "  return burnAmount > tolerance"
      ],
      "outputs": [],
      "metadata": {
        "id": "6abYNrhhI3cy"
      }
    },
    {
      "cell_type": "markdown",
      "source": [
        "## **Create burn maps for San Francisco and Santa Cruz**\r\n",
        "\r\n",
        "### October 20th 2020 CZU Lightning Complex Fires"
      ],
      "metadata": {
        "id": "2sSnzA2vVgPc"
      }
    },
    {
      "cell_type": "code",
      "execution_count": 9,
      "source": [
        "radius = 0.1\r\n",
        "SF_sw, SF_nw = buildCoords([37.75, -122.40], radius)\r\n",
        "SC_sw, SC_nw = buildCoords([37.15, -122.20], radius)\r\n",
        "\r\n",
        "SFBurnMap, SFBurnDictionary = getBurnMap('2020-08-15', '2020-08-20', SF_sw, SF_nw, 'color')\r\n",
        "SCBurnMap, SCBurnDictionary = getBurnMap('2020-08-15', '2020-08-20', SC_sw, SC_nw, 'color')"
      ],
      "outputs": [],
      "metadata": {
        "id": "AHyBwY4VAZ2i"
      }
    },
    {
      "cell_type": "markdown",
      "source": [
        "### **Determine whether the areas burned and display their fire maps**"
      ],
      "metadata": {
        "id": "H3ll386uVweI"
      }
    },
    {
      "cell_type": "code",
      "execution_count": 18,
      "source": [
        "print(f'San Francisco: Burned? {didAreaBurn(SFBurnDictionary)}')\r\n",
        "print(f'Santa Cruz: Burned? {didAreaBurn(SCBurnDictionary)}')\r\n",
        "sideBySide(SFBurnMap, SCBurnMap)"
      ],
      "outputs": [
        {
          "output_type": "stream",
          "name": "stdout",
          "text": [
            "San Francisco: Burned? False\n",
            "Santa Cruz: Burned? True\n"
          ]
        },
        {
          "output_type": "stream",
          "name": "stderr",
          "text": [
            "C:\\Users\\sfnes\\AppData\\Local\\Packages\\PythonSoftwareFoundation.Python.3.9_qbz5n2kfra8p0\\LocalCache\\local-packages\\Python39\\site-packages\\IPython\\core\\display.py:724: UserWarning: Consider using IPython.display.IFrame instead\n",
            "  warnings.warn(\"Consider using IPython.display.IFrame instead\")\n"
          ]
        },
        {
          "output_type": "execute_result",
          "data": {
            "text/html": [
              "<iframe srcdoc=\"<!DOCTYPE html>\n",
              "<head>    \n",
              "    <meta http-equiv=&quot;content-type&quot; content=&quot;text/html; charset=UTF-8&quot; />\n",
              "    \n",
              "        <script>\n",
              "            L_NO_TOUCH = false;\n",
              "            L_DISABLE_3D = false;\n",
              "        </script>\n",
              "    \n",
              "    <style>html, body {width: 100%;height: 100%;margin: 0;padding: 0;}</style>\n",
              "    <style>#map {position:absolute;top:0;bottom:0;right:0;left:0;}</style>\n",
              "    <script src=&quot;https://cdn.jsdelivr.net/npm/leaflet@1.6.0/dist/leaflet.js&quot;></script>\n",
              "    <script src=&quot;https://code.jquery.com/jquery-1.12.4.min.js&quot;></script>\n",
              "    <script src=&quot;https://maxcdn.bootstrapcdn.com/bootstrap/3.2.0/js/bootstrap.min.js&quot;></script>\n",
              "    <script src=&quot;https://cdnjs.cloudflare.com/ajax/libs/Leaflet.awesome-markers/2.0.2/leaflet.awesome-markers.js&quot;></script>\n",
              "    <link rel=&quot;stylesheet&quot; href=&quot;https://cdn.jsdelivr.net/npm/leaflet@1.6.0/dist/leaflet.css&quot;/>\n",
              "    <link rel=&quot;stylesheet&quot; href=&quot;https://maxcdn.bootstrapcdn.com/bootstrap/3.2.0/css/bootstrap.min.css&quot;/>\n",
              "    <link rel=&quot;stylesheet&quot; href=&quot;https://maxcdn.bootstrapcdn.com/bootstrap/3.2.0/css/bootstrap-theme.min.css&quot;/>\n",
              "    <link rel=&quot;stylesheet&quot; href=&quot;https://maxcdn.bootstrapcdn.com/font-awesome/4.6.3/css/font-awesome.min.css&quot;/>\n",
              "    <link rel=&quot;stylesheet&quot; href=&quot;https://cdnjs.cloudflare.com/ajax/libs/Leaflet.awesome-markers/2.0.2/leaflet.awesome-markers.css&quot;/>\n",
              "    <link rel=&quot;stylesheet&quot; href=&quot;https://cdn.jsdelivr.net/gh/python-visualization/folium/folium/templates/leaflet.awesome.rotate.min.css&quot;/>\n",
              "    \n",
              "            <meta name=&quot;viewport&quot; content=&quot;width=device-width,\n",
              "                initial-scale=1.0, maximum-scale=1.0, user-scalable=no&quot; />\n",
              "            <style>\n",
              "                #map_e39ec8b719aa4d6ca0518f8310d113a3 {\n",
              "                    position: relative;\n",
              "                    width: 100.0%;\n",
              "                    height: 100.0%;\n",
              "                    left: 0.0%;\n",
              "                    top: 0.0%;\n",
              "                }\n",
              "            </style>\n",
              "        \n",
              "</head>\n",
              "<body>    \n",
              "    \n",
              "            <div class=&quot;folium-map&quot; id=&quot;map_e39ec8b719aa4d6ca0518f8310d113a3&quot; ></div>\n",
              "        \n",
              "</body>\n",
              "<script>    \n",
              "    \n",
              "            var map_e39ec8b719aa4d6ca0518f8310d113a3 = L.map(\n",
              "                &quot;map_e39ec8b719aa4d6ca0518f8310d113a3&quot;,\n",
              "                {\n",
              "                    center: [37.501, -122.1899],\n",
              "                    crs: L.CRS.EPSG3857,\n",
              "                    zoom: 10,\n",
              "                    zoomControl: true,\n",
              "                    preferCanvas: false,\n",
              "                }\n",
              "            );\n",
              "\n",
              "            \n",
              "\n",
              "        \n",
              "    \n",
              "            var tile_layer_32945da9886e436bacaf71fb654b32b9 = L.tileLayer(\n",
              "                &quot;https://stamen-tiles-{s}.a.ssl.fastly.net/terrain-background/{z}/{x}/{y}{r}.png&quot;,\n",
              "                {&quot;attribution&quot;: &quot;Map tiles by \\u003ca href=\\&quot;http://stamen.com\\&quot;\\u003eStamen Design\\u003c/a\\u003e, \\u003ca href=\\&quot;http://creativecommons.org/licenses/by/3.0\\&quot;\\u003eCC BY 3.0\\u003c/a\\u003e \\u0026mdash; Map data \\u0026copy; \\u003ca href=\\&quot;https://www.openstreetmap.org/copyright\\&quot;\\u003eOpenStreetMap\\u003c/a\\u003e contributors&quot;, &quot;detectRetina&quot;: false, &quot;maxNativeZoom&quot;: 18, &quot;maxZoom&quot;: 18, &quot;minZoom&quot;: 0, &quot;noWrap&quot;: false, &quot;opacity&quot;: 1, &quot;subdomains&quot;: &quot;abc&quot;, &quot;tms&quot;: false}\n",
              "            ).addTo(map_e39ec8b719aa4d6ca0518f8310d113a3);\n",
              "        \n",
              "    \n",
              "            map_e39ec8b719aa4d6ca0518f8310d113a3.fitBounds(\n",
              "                [[37.65, -122.5], [37.85, -122.30000000000001]],\n",
              "                {}\n",
              "            );\n",
              "        \n",
              "    \n",
              "            var tile_layer_527f254b01cb41849dbe197948872f2c = L.tileLayer(\n",
              "                &quot;https://earthengine.googleapis.com/v1alpha/projects/earthengine-legacy/maps/993297a05c8ba89dbcab9e6af53ad0d3-c9aeaa10d37f4ed00b585e0080bdcfb3/tiles/{z}/{x}/{y}&quot;,\n",
              "                {&quot;attribution&quot;: &quot;Map Data \\u0026copy; \\u003ca href=\\&quot;https://earthengine.google.com/\\&quot;\\u003eGoogle Earth Engine\\u003c/a\\u003e&quot;, &quot;detectRetina&quot;: false, &quot;maxNativeZoom&quot;: 18, &quot;maxZoom&quot;: 18, &quot;minZoom&quot;: 0, &quot;noWrap&quot;: false, &quot;opacity&quot;: 1, &quot;subdomains&quot;: &quot;abc&quot;, &quot;tms&quot;: false}\n",
              "            ).addTo(map_e39ec8b719aa4d6ca0518f8310d113a3);\n",
              "        \n",
              "</script>\" style=\"float:left; width: 500px; height: 500px; display:inline-block; width: 40%; margin: 0 auto; border: 2px solid black\"></iframe><iframe srcdoc=\"<!DOCTYPE html>\n",
              "<head>    \n",
              "    <meta http-equiv=&quot;content-type&quot; content=&quot;text/html; charset=UTF-8&quot; />\n",
              "    \n",
              "        <script>\n",
              "            L_NO_TOUCH = false;\n",
              "            L_DISABLE_3D = false;\n",
              "        </script>\n",
              "    \n",
              "    <style>html, body {width: 100%;height: 100%;margin: 0;padding: 0;}</style>\n",
              "    <style>#map {position:absolute;top:0;bottom:0;right:0;left:0;}</style>\n",
              "    <script src=&quot;https://cdn.jsdelivr.net/npm/leaflet@1.6.0/dist/leaflet.js&quot;></script>\n",
              "    <script src=&quot;https://code.jquery.com/jquery-1.12.4.min.js&quot;></script>\n",
              "    <script src=&quot;https://maxcdn.bootstrapcdn.com/bootstrap/3.2.0/js/bootstrap.min.js&quot;></script>\n",
              "    <script src=&quot;https://cdnjs.cloudflare.com/ajax/libs/Leaflet.awesome-markers/2.0.2/leaflet.awesome-markers.js&quot;></script>\n",
              "    <link rel=&quot;stylesheet&quot; href=&quot;https://cdn.jsdelivr.net/npm/leaflet@1.6.0/dist/leaflet.css&quot;/>\n",
              "    <link rel=&quot;stylesheet&quot; href=&quot;https://maxcdn.bootstrapcdn.com/bootstrap/3.2.0/css/bootstrap.min.css&quot;/>\n",
              "    <link rel=&quot;stylesheet&quot; href=&quot;https://maxcdn.bootstrapcdn.com/bootstrap/3.2.0/css/bootstrap-theme.min.css&quot;/>\n",
              "    <link rel=&quot;stylesheet&quot; href=&quot;https://maxcdn.bootstrapcdn.com/font-awesome/4.6.3/css/font-awesome.min.css&quot;/>\n",
              "    <link rel=&quot;stylesheet&quot; href=&quot;https://cdnjs.cloudflare.com/ajax/libs/Leaflet.awesome-markers/2.0.2/leaflet.awesome-markers.css&quot;/>\n",
              "    <link rel=&quot;stylesheet&quot; href=&quot;https://cdn.jsdelivr.net/gh/python-visualization/folium/folium/templates/leaflet.awesome.rotate.min.css&quot;/>\n",
              "    \n",
              "            <meta name=&quot;viewport&quot; content=&quot;width=device-width,\n",
              "                initial-scale=1.0, maximum-scale=1.0, user-scalable=no&quot; />\n",
              "            <style>\n",
              "                #map_c50f6bdd37b145139d4d2e474afe6c9f {\n",
              "                    position: relative;\n",
              "                    width: 100.0%;\n",
              "                    height: 100.0%;\n",
              "                    left: 0.0%;\n",
              "                    top: 0.0%;\n",
              "                }\n",
              "            </style>\n",
              "        \n",
              "</head>\n",
              "<body>    \n",
              "    \n",
              "            <div class=&quot;folium-map&quot; id=&quot;map_c50f6bdd37b145139d4d2e474afe6c9f&quot; ></div>\n",
              "        \n",
              "</body>\n",
              "<script>    \n",
              "    \n",
              "            var map_c50f6bdd37b145139d4d2e474afe6c9f = L.map(\n",
              "                &quot;map_c50f6bdd37b145139d4d2e474afe6c9f&quot;,\n",
              "                {\n",
              "                    center: [37.501, -122.1899],\n",
              "                    crs: L.CRS.EPSG3857,\n",
              "                    zoom: 10,\n",
              "                    zoomControl: true,\n",
              "                    preferCanvas: false,\n",
              "                }\n",
              "            );\n",
              "\n",
              "            \n",
              "\n",
              "        \n",
              "    \n",
              "            var tile_layer_9553e05b14e849fdb15b7b18e2876383 = L.tileLayer(\n",
              "                &quot;https://stamen-tiles-{s}.a.ssl.fastly.net/terrain-background/{z}/{x}/{y}{r}.png&quot;,\n",
              "                {&quot;attribution&quot;: &quot;Map tiles by \\u003ca href=\\&quot;http://stamen.com\\&quot;\\u003eStamen Design\\u003c/a\\u003e, \\u003ca href=\\&quot;http://creativecommons.org/licenses/by/3.0\\&quot;\\u003eCC BY 3.0\\u003c/a\\u003e \\u0026mdash; Map data \\u0026copy; \\u003ca href=\\&quot;https://www.openstreetmap.org/copyright\\&quot;\\u003eOpenStreetMap\\u003c/a\\u003e contributors&quot;, &quot;detectRetina&quot;: false, &quot;maxNativeZoom&quot;: 18, &quot;maxZoom&quot;: 18, &quot;minZoom&quot;: 0, &quot;noWrap&quot;: false, &quot;opacity&quot;: 1, &quot;subdomains&quot;: &quot;abc&quot;, &quot;tms&quot;: false}\n",
              "            ).addTo(map_c50f6bdd37b145139d4d2e474afe6c9f);\n",
              "        \n",
              "    \n",
              "            map_c50f6bdd37b145139d4d2e474afe6c9f.fitBounds(\n",
              "                [[37.05, -122.3], [37.25, -122.10000000000001]],\n",
              "                {}\n",
              "            );\n",
              "        \n",
              "    \n",
              "            var tile_layer_76bbdfc4b7a1415e989e5cf610f06baf = L.tileLayer(\n",
              "                &quot;https://earthengine.googleapis.com/v1alpha/projects/earthengine-legacy/maps/993297a05c8ba89dbcab9e6af53ad0d3-0311df40c93d70534f98e7ff4655522b/tiles/{z}/{x}/{y}&quot;,\n",
              "                {&quot;attribution&quot;: &quot;Map Data \\u0026copy; \\u003ca href=\\&quot;https://earthengine.google.com/\\&quot;\\u003eGoogle Earth Engine\\u003c/a\\u003e&quot;, &quot;detectRetina&quot;: false, &quot;maxNativeZoom&quot;: 18, &quot;maxZoom&quot;: 18, &quot;minZoom&quot;: 0, &quot;noWrap&quot;: false, &quot;opacity&quot;: 1, &quot;subdomains&quot;: &quot;abc&quot;, &quot;tms&quot;: false}\n",
              "            ).addTo(map_c50f6bdd37b145139d4d2e474afe6c9f);\n",
              "        \n",
              "</script>\" style=\"float:left; width: 500px; height: 500px; display:inline-block; width: 40%; margin: 0 auto; border: 2px solid black\"></iframe>"
            ],
            "text/plain": [
              "<IPython.core.display.HTML object>"
            ]
          },
          "metadata": {},
          "execution_count": 18
        }
      ],
      "metadata": {
        "id": "aUveBlAdXTqN",
        "colab": {
          "base_uri": "https://localhost:8080/",
          "height": 641
        },
        "outputId": "978d1853-c66d-4553-b8f9-5a4c53daa6ec"
      }
    },
    {
      "cell_type": "markdown",
      "source": [
        "### **Save outputs**"
      ],
      "metadata": {}
    },
    {
      "cell_type": "code",
      "execution_count": 22,
      "source": [
        "SCBurnMap.save('../outputs/CZUFireBurnMap.html')"
      ],
      "outputs": [],
      "metadata": {}
    }
  ]
}